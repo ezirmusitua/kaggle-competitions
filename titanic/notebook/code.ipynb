{
 "cells": [
  {
   "cell_type": "code",
   "execution_count": 1,
   "metadata": {},
   "outputs": [],
   "source": [
    "import re\n",
    "import numpy as np\n",
    "import pandas as pd\n",
    "import seaborn as sns\n",
    "import matplotlib.pyplot as plt\n",
    "import xgboost as xgb\n",
    "from sklearn.tree import DecisionTreeClassifier\n",
    "from sklearn.ensemble import RandomForestClassifier\n",
    "from sklearn.preprocessing import Imputer\n",
    "from sklearn.feature_extraction import DictVectorizer\n",
    "from sklearn.model_selection import cross_val_score \n",
    "from xgboost.sklearn import XGBClassifier"
   ]
  },
  {
   "cell_type": "code",
   "execution_count": 2,
   "metadata": {},
   "outputs": [
    {
     "name": "stdout",
     "output_type": "stream",
     "text": [
      "Column:  PassengerId  contain nan:  False\n",
      "Column:  Pclass  contain nan:  False\n",
      "Column:  Name  contain nan:  False\n",
      "Column:  Sex  contain nan:  False\n",
      "Column:  Age  contain nan:  True\n",
      "Column:  SibSp  contain nan:  False\n",
      "Column:  Parch  contain nan:  False\n",
      "Column:  Ticket  contain nan:  False\n",
      "Column:  Fare  contain nan:  True\n",
      "Column:  Cabin  contain nan:  True\n",
      "Column:  Embarked  contain nan:  True\n"
     ]
    }
   ],
   "source": [
    "data_train = pd.read_csv('../input/train.csv')\n",
    "data_test = pd.read_csv('../input/test.csv')\n",
    "target = data_train.Survived\n",
    "data_all = pd.concat([data_train.drop(['Survived'], axis=1), data_test])\n",
    "for column in data_all.columns:\n",
    "    print('Column: ', column, ' contain nan: ', data_all[column].isna().any())"
   ]
  },
  {
   "cell_type": "code",
   "execution_count": 3,
   "metadata": {},
   "outputs": [],
   "source": [
    "\"\"\"\n",
    "This part use to process Age column in data,\n",
    "Age data may be nan, we use the NameTitle \n",
    "to handle it\n",
    "\"\"\"\n",
    "def construct_name_title_age_map(data):\n",
    "    _data = pd.DataFrame.copy(data)\n",
    "    _data['NameTitle'] = _data.Name.apply(lambda name: re.findall(r'.+, (\\w+). .+', name)[0])\n",
    "    titles = _data.NameTitle.unique()\n",
    "    title_group = _data.groupby('NameTitle')\n",
    "    return {title: title_group.get_group(title).Age.mean().astype(int) for title in titles}\n",
    "\n",
    "def fix_age_using_name_title(data, title_age_map):\n",
    "    _data = pd.DataFrame.copy(data)\n",
    "    _data['NameTitle'] = _data.Name.apply(lambda name: re.findall(r'.+, (\\w+). .+', name)[0])\n",
    "    for title, mage in title_age_map.items():\n",
    "        _data.loc[(_data.Age.isna().any()) & (_data.NameTitle == title), 'Age'] = mage\n",
    "    return _data\n",
    "\n",
    "        \n",
    "# name_title_age_map = construct_name_title_age_map(data_all)\n",
    "# Following use to fix data's missing Age with mean age of the same title\n",
    "# tmp = fix_age_using_name_title(data_train, name_title_age_map)\n",
    "# g = sns.FacetGrid(data_train, col='Survived')\n",
    "# g = g.map(sns.distplot, \"Age\")\n",
    "\n",
    "def convert_age(data):\n",
    "    dists = range(0, 85, 5)\n",
    "    def map_age_to_dist(age):\n",
    "        i = 0\n",
    "        while i < len(dists) - 1:\n",
    "            if dists[i+1] > age > dists[i]:\n",
    "                return i\n",
    "            i += 1\n",
    "    _data = pd.DataFrame.copy(data)\n",
    "    _data.Age = _data.Age.apply(map_age_to_dist)\n",
    "    return _data\n",
    "\n",
    "def process_age(data, title_to_age):\n",
    "    return convert_age(fix_age_using_name_title(data, title_to_age))"
   ]
  },
  {
   "cell_type": "code",
   "execution_count": 4,
   "metadata": {},
   "outputs": [],
   "source": [
    "\"\"\"\n",
    "This part use to convert Sex to numerical value\n",
    "\"\"\"\n",
    "def convert_sex(data):\n",
    "    \"\"\"Convert Sex\"\"\"\n",
    "    sex_map = {'male': 0, 'female': 1}\n",
    "    _data = pd.DataFrame.copy(data)\n",
    "    _data.Sex = _data.Sex.apply(lambda sex: sex_map[sex])\n",
    "    return _data\n",
    "\n",
    "def process_sex(data):\n",
    "    return convert_sex(data)"
   ]
  },
  {
   "cell_type": "code",
   "execution_count": 5,
   "metadata": {},
   "outputs": [],
   "source": [
    "\"\"\"\n",
    "This part use to convert Embarked to numerical value\n",
    "Embarked value may be nan, we fix it with mean value of Embarked\n",
    "\"\"\"\n",
    "def convert_embarked(data):\n",
    "    \"\"\"Convert Embarked\"\"\"\n",
    "    dic = {'S': 0, 'C': 1, 'Q': 2}\n",
    "    _data = pd.DataFrame.copy(data)\n",
    "    _data.Embarked = _data.Embarked.apply(lambda embarked: dic.get(embarked, embarked))\n",
    "    return _data\n",
    "\n",
    "def fix_nan_embarked(data):\n",
    "    _data = pd.DataFrame.copy(data)\n",
    "    _data.Embarked = _data.Embarked.apply(lambda embarked: _data.Embarked.mean() if pd.isna(embarked) else embarked)\n",
    "    return _data\n",
    "\n",
    "def process_embarked(data):\n",
    "    return fix_nan_embarked(convert_embarked(data))"
   ]
  },
  {
   "cell_type": "code",
   "execution_count": 6,
   "metadata": {},
   "outputs": [],
   "source": [
    "\"\"\"\n",
    "This part use to construct new column FamilySize  using\n",
    "SibSp & Parch columns\n",
    "\"\"\"\n",
    "def construct_family_size(data):\n",
    "    \"\"\"Construct FamilySize\"\"\"\n",
    "    _data = pd.DataFrame.copy(data)\n",
    "    _data['FamilySize'] = data.SibSp + data.Parch + 1\n",
    "    return _data\n",
    "\n",
    "def process_family_size(data):\n",
    "    return construct_family_size(data)"
   ]
  },
  {
   "cell_type": "code",
   "execution_count": 7,
   "metadata": {},
   "outputs": [],
   "source": [
    "\"\"\"\n",
    "This part use to process Cabin column\n",
    "First we build cabin map for convert categorical to numerical\n",
    "Then we need to handle nan value with Pclass column in data\n",
    "\"\"\"\n",
    "def extract_cabin_prefix(cabin):\n",
    "    return cabin.strip()[0] if not pd.isna(cabin) else cabin\n",
    "\n",
    "def construct_cabin_map(data):\n",
    "    _data = pd.DataFrame.copy(data)\n",
    "    cabin = _data.Cabin.apply(extract_cabin_prefix)\n",
    "    return {  p: i for i, p in enumerate(cabin.unique()) if not pd.isna(p)}\n",
    "\n",
    "cabin_map = construct_cabin_map(data_all)\n",
    "\n",
    "def construct_pclass_cabin_map(data):\n",
    "    _data = pd.DataFrame.copy(data)\n",
    "    _data.Cabin = _data.Cabin.apply(extract_cabin_prefix)\n",
    "    group = _data.groupby('Pclass')\n",
    "    return { pcls: group.get_group(pcls).Cabin.value_counts().index[0] for pcls in  group.groups.keys()}\n",
    "\n",
    "pclass_cabin_map = construct_pclass_cabin_map(data_all)\n",
    "\n",
    "def fix_nan_cabin(data, pclass_cabin_map):\n",
    "    _data = pd.DataFrame.copy(data)\n",
    "    _data.Cabin = _data.Cabin.apply(extract_cabin_prefix)\n",
    "    for pclass, mcabin in pclass_cabin_map.items():\n",
    "        _data.loc[(_data.Cabin.isna().any()) & (_data.Pclass == pclass), 'Cabin'] = mcabin\n",
    "    return _data\n",
    "\n",
    "def convert_cabin(data):\n",
    "    dic = construct_cabin_map(data)\n",
    "    _data = pd.DataFrame.copy(data)\n",
    "    _data.Cabin = _data.Cabin.apply(lambda cabin: dic.get(cabin, cabin))\n",
    "    return _data\n",
    "    \n",
    "\n",
    "def process_cabin(data, pclass_to_cabin):\n",
    "    return convert_cabin(fix_nan_cabin(data, pclass_to_cabin))"
   ]
  },
  {
   "cell_type": "code",
   "execution_count": 8,
   "metadata": {},
   "outputs": [
    {
     "name": "stdout",
     "output_type": "stream",
     "text": [
      "1 : 54.17441517027864\n",
      "2 : 13.35201504211793\n",
      "3 : 7.967487486548292\n"
     ]
    },
    {
     "name": "stderr",
     "output_type": "stream",
     "text": [
      "/home/jferroal/.venvs/lite_data_science/lib/python3.6/site-packages/matplotlib/axes/_axes.py:6462: UserWarning: The 'normed' kwarg is deprecated, and has been replaced by the 'density' kwarg.\n",
      "  warnings.warn(\"The 'normed' kwarg is deprecated, and has been \"\n"
     ]
    },
    {
     "data": {
      "image/png": "[encoded data removed]",
      "text/plain": [
       "<Figure size 432x216 with 2 Axes>"
      ]
     },
     "metadata": {},
     "output_type": "display_data"
    }
   ],
   "source": [
    "\"\"\"\n",
    "This part use to process Fare column in data  \n",
    "First we will calculate the mean Fare for each passenger,\n",
    "we did this cause in data we can found that the Fare of each \n",
    "passenger is the total cost of their family, so we would divide \n",
    "Fare with FamilySize\n",
    "Then, we need to fix nan value in Fare, in general, the fare is \n",
    "depend on user's Pclass and Cabin, but we can see from above,\n",
    "Cabin has lots of nan value, so Pclass is better for us\n",
    "At last, we would convert Fare to dist\n",
    "\"\"\"\n",
    "def calc_mean_fare(data):\n",
    "    _data = pd.DataFrame.copy(data)\n",
    "    _data.Fare = _data.Fare / _data.FamilySize\n",
    "    return _data\n",
    "\n",
    "def construct_pclass_fare_map(data):\n",
    "    _data = calc_mean_fare(data)\n",
    "    group = _data.groupby('Pclass')\n",
    "    return {pcls: group.get_group(pcls).Fare.mean() for pcls in group.groups.keys()}\n",
    "\n",
    "def fix_missing_fare(data, pclass_fare_map):\n",
    "    \"\"\"Fix missing price value\"\"\"\n",
    "    _data = calc_mean_fare(data)\n",
    "    for pcls, mfare in pclass_fare_map.items():\n",
    "        print(pcls, ':', mfare)\n",
    "        _data.loc[(_data.Fare.isna().any()) & (_data.Pclass == pcls), 'Fare'] = mfare\n",
    "    return _data\n",
    "\n",
    "def convert_fare_to_dist(data):\n",
    "    dists = [0, 10, 20, 30, 50, 100, 200]\n",
    "    def map_fare_to_dist(age):\n",
    "        i = 0\n",
    "        while i < len(dists) - 1:\n",
    "            if dists[i+1] > age > dists[i]:\n",
    "                return i\n",
    "            i += 1\n",
    "    _data = pd.DataFrame.copy(data)\n",
    "    _data.Fare = _data.Fare.apply(map_fare_to_dist)\n",
    "    return _data\n",
    "    \n",
    "\n",
    "tmp_all = construct_family_size(data_all)\n",
    "tmp_train = construct_family_size(data_train)\n",
    "pclass_fare_map = construct_pclass_fare_map(tmp_all)\n",
    "tmp = fix_missing_fare(tmp_train, pclass_fare_map)\n",
    "g = sns.FacetGrid(tmp, col='Survived')\n",
    "g = g.map(sns.distplot, \"Fare\", bins=30)\n",
    "convert_fare_to_dist(tmp)\n",
    "\n",
    "def process_fare(data, pclass_to_fare):\n",
    "    return convert_fare_to_dist(fix_missing_fare(data, pclass_to_fare))"
   ]
  },
  {
   "cell_type": "code",
   "execution_count": 9,
   "metadata": {},
   "outputs": [],
   "source": [
    "def drop_unnecessary(data):\n",
    "    return data.drop(['Ticket', 'Name', 'NameTitle', 'SibSp', 'Parch', 'Embarked'], axis=1)"
   ]
  },
  {
   "cell_type": "code",
   "execution_count": 10,
   "metadata": {},
   "outputs": [
    {
     "name": "stdout",
     "output_type": "stream",
     "text": [
      "1 : 54.17441517027864\n",
      "2 : 13.35201504211793\n",
      "3 : 7.967487486548292\n"
     ]
    }
   ],
   "source": [
    "# process data all\n",
    "All = construct_family_size(data_all)\n",
    "Name_Title_To_Mean_Age = construct_name_title_age_map(All)\n",
    "Pclass_To_Mean_Fare = construct_pclass_fare_map(All)\n",
    "Pclass_To_Most_Cabin = construct_pclass_cabin_map(All)\n",
    "\n",
    "X_train = process_age(data_train, Name_Title_To_Mean_Age)\n",
    "X_train = process_sex(X_train)\n",
    "X_train = process_embarked(X_train)\n",
    "X_train = process_family_size(X_train)\n",
    "X_train = process_cabin(X_train, Pclass_To_Most_Cabin)\n",
    "X_train = process_fare(X_train, Pclass_To_Mean_Fare)\n",
    "X_train = drop_unnecessary(X_train)\n",
    "y_train = X_train.Survived\n",
    "X_train = X_train.drop(['Survived'], axis=1)"
   ]
  },
  {
   "cell_type": "code",
   "execution_count": 11,
   "metadata": {},
   "outputs": [
    {
     "name": "stdout",
     "output_type": "stream",
     "text": [
      "[0.8547486  0.82681564 0.82022472 0.80337079 0.84745763]\n"
     ]
    },
    {
     "name": "stderr",
     "output_type": "stream",
     "text": [
      "/home/jferroal/.venvs/lite_data_science/lib/python3.6/site-packages/sklearn/preprocessing/label.py:151: DeprecationWarning: The truth value of an empty array is ambiguous. Returning False, but in future this will result in an error. Use `array.size > 0` to check that an array is not empty.\n",
      "  if diff:\n",
      "/home/jferroal/.venvs/lite_data_science/lib/python3.6/site-packages/sklearn/preprocessing/label.py:151: DeprecationWarning: The truth value of an empty array is ambiguous. Returning False, but in future this will result in an error. Use `array.size > 0` to check that an array is not empty.\n",
      "  if diff:\n",
      "/home/jferroal/.venvs/lite_data_science/lib/python3.6/site-packages/sklearn/preprocessing/label.py:151: DeprecationWarning: The truth value of an empty array is ambiguous. Returning False, but in future this will result in an error. Use `array.size > 0` to check that an array is not empty.\n",
      "  if diff:\n",
      "/home/jferroal/.venvs/lite_data_science/lib/python3.6/site-packages/sklearn/preprocessing/label.py:151: DeprecationWarning: The truth value of an empty array is ambiguous. Returning False, but in future this will result in an error. Use `array.size > 0` to check that an array is not empty.\n",
      "  if diff:\n",
      "/home/jferroal/.venvs/lite_data_science/lib/python3.6/site-packages/sklearn/preprocessing/label.py:151: DeprecationWarning: The truth value of an empty array is ambiguous. Returning False, but in future this will result in an error. Use `array.size > 0` to check that an array is not empty.\n",
      "  if diff:\n"
     ]
    }
   ],
   "source": [
    "xgb_model = XGBClassifier(\n",
    "    learning_rate =0.008,\n",
    "     n_estimators=23,\n",
    "     max_depth=5,\n",
    "     min_child_weight=1.2,\n",
    "     gamma=1,\n",
    "     subsample=0.6,\n",
    "     colsample_bytree=0.8,\n",
    "     objective= 'binary:logistic',\n",
    "     nthread=8,\n",
    "     seed=27)\n",
    "print(cross_val_score(xgb_model, X_train, y_train, cv=5, scoring='accuracy'))"
   ]
  },
  {
   "cell_type": "code",
   "execution_count": 12,
   "metadata": {},
   "outputs": [
    {
     "data": {
      "text/plain": [
       "XGBClassifier(base_score=0.5, booster='gbtree', colsample_bylevel=1,\n",
       "       colsample_bytree=0.8, gamma=1, learning_rate=0.008,\n",
       "       max_delta_step=0, max_depth=5, min_child_weight=1.2, missing=None,\n",
       "       n_estimators=23, n_jobs=1, nthread=8, objective='binary:logistic',\n",
       "       random_state=0, reg_alpha=0, reg_lambda=1, scale_pos_weight=1,\n",
       "       seed=27, silent=True, subsample=0.6)"
      ]
     },
     "execution_count": 12,
     "metadata": {},
     "output_type": "execute_result"
    }
   ],
   "source": [
    "xgb_model.fit(X_train, y_train)"
   ]
  },
  {
   "cell_type": "code",
   "execution_count": 13,
   "metadata": {},
   "outputs": [
    {
     "name": "stdout",
     "output_type": "stream",
     "text": [
      "1 : 54.17441517027864\n",
      "2 : 13.35201504211793\n",
      "3 : 7.967487486548292\n"
     ]
    }
   ],
   "source": [
    "X_test = process_age(data_test, Name_Title_To_Mean_Age)\n",
    "X_test = process_sex(X_test)\n",
    "X_test = process_embarked(X_test)\n",
    "X_test = process_family_size(X_test)\n",
    "X_test = process_cabin(X_test, Pclass_To_Most_Cabin)\n",
    "X_test = process_fare(X_test, Pclass_To_Mean_Fare)\n",
    "X_test = drop_unnecessary(X_test)"
   ]
  },
  {
   "cell_type": "code",
   "execution_count": 14,
   "metadata": {},
   "outputs": [
    {
     "name": "stderr",
     "output_type": "stream",
     "text": [
      "/home/jferroal/.venvs/lite_data_science/lib/python3.6/site-packages/sklearn/preprocessing/label.py:151: DeprecationWarning: The truth value of an empty array is ambiguous. Returning False, but in future this will result in an error. Use `array.size > 0` to check that an array is not empty.\n",
      "  if diff:\n"
     ]
    }
   ],
   "source": [
    "prediction = xgb_model.predict(X_test)"
   ]
  },
  {
   "cell_type": "code",
   "execution_count": 15,
   "metadata": {},
   "outputs": [],
   "source": [
    "submission = pd.DataFrame({\n",
    "    \"PassengerId\": X_test[\"PassengerId\"],\n",
    "    \"Survived\": prediction\n",
    "})\n",
    "submission.to_csv('third_submission.csv', index=False)"
   ]
  }
 ],
 "metadata": {
  "kernelspec": {
   "display_name": "Python 3",
   "language": "python",
   "name": "python3"
  },
  "language_info": {
   "codemirror_mode": {
    "name": "ipython",
    "version": 3
   },
   "file_extension": ".py",
   "mimetype": "text/x-python",
   "name": "python",
   "nbconvert_exporter": "python",
   "pygments_lexer": "ipython3",
   "version": "3.6.5"
  }
 },
 "nbformat": 4,
 "nbformat_minor": 2
}
