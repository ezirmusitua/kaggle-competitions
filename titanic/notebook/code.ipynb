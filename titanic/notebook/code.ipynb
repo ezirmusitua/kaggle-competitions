{
 "cells": [
  {
   "cell_type": "code",
   "execution_count": 1,
   "metadata": {},
   "outputs": [],
   "source": [
    "import re\n",
    "import numpy as np\n",
    "import pandas as pd\n",
    "import seaborn as sns\n",
    "import matplotlib.pyplot as plt\n",
    "import xgboost as xgb\n",
    "from sklearn.tree import DecisionTreeClassifier\n",
    "from sklearn.ensemble import RandomForestClassifier\n",
    "from sklearn.preprocessing import Imputer\n",
    "from sklearn.feature_extraction import DictVectorizer\n",
    "from sklearn.model_selection import cross_val_score \n",
    "from xgboost.sklearn import XGBClassifier"
   ]
  },
  {
   "cell_type": "code",
   "execution_count": 2,
   "metadata": {},
   "outputs": [],
   "source": [
    "data_train = pd.read_csv('../input/train.csv')\n",
    "data_test = pd.read_csv('../input/test.csv')"
   ]
  },
  {
   "cell_type": "code",
   "execution_count": 20,
   "metadata": {},
   "outputs": [],
   "source": [
    "def extract_name_title(name_column):\n",
    "    return name_column.apply(lambda name: re.findall(r'.+, (\\w+). .+', name)[0])\n",
    "\n",
    "def update_nan_age(data, target_index=5, title_index=-2):\n",
    "    data_name_title_group = data.groupby('NameTitle')\n",
    "    data_copied = pd.DataFrame.copy(data)\n",
    "    for v in data_copied.values:\n",
    "        mean_age = data_name_title_group.get_group(v[title_index]).Age.mean()\n",
    "        \n",
    "        if pd.isna(v[target_index]) or pd.isnull(v)[target_index]:\n",
    "            data_copied.loc[data_copied.PassengerId == v[0], 'Age'] = 0 if pd.isna(mean_age) else mean_age\n",
    "    return data_copied\n",
    "\n",
    "def convert_sex(sex_column):\n",
    "    sex_map = {'male': 0, 'female': 1}\n",
    "    return sex_column.apply(lambda sex: sex_map[sex])\n",
    "\n",
    "def convert_embarked(embarked_column):\n",
    "    dic = {'S': 0, 'C': 1, 'Q': 2}\n",
    "    return embarked_column.apply(lambda embarked: dic.get(embarked, 0))\n",
    "\n",
    "def update_nan_cabin(data, target_index=10, pclass_index=2):\n",
    "    data_copied = pd.DataFrame.copy(data)\n",
    "    cabin_map = {key: index for index, key in enumerate('ABCDEFGHIJKLMNOPQRSTUVWXYZ')}\n",
    "    data_copied.Cabin = data_copied.Cabin.apply(lambda cabin: cabin if pd.isna(cabin) else cabin_map[cabin[0]])\n",
    "    pclass_group = data_copied.groupby('Pclass')\n",
    "    print(pclass_group.get_group(1).Cabin.value_counts().index[0])\n",
    "    for v in data_copied.values:\n",
    "        if pd.isna(v[target_index]) or pd.isnull(v)[target_index]:\n",
    "            data_copied.loc[data_copied.PassengerId == v[0], 'Cabin'] = pclass_group.get_group(v[pclass_index]).Cabin.value_counts().index[0]\n",
    "    return data_copied\n",
    "\n",
    "def convert_family_size(data):\n",
    "    return data.SibSp + data.Parch\n",
    "\n",
    "def convert_fare(data):\n",
    "    data_copied = pd.DataFrame.copy(data)\n",
    "    data_copied.Fare = data_train.Fare.fillna(data_train.Fare.mean())\n",
    "#     data_copied['FareBand'] = pd.qcut(data_copied['Fare'], 4)\n",
    "    data_copied.loc[ data_copied['Fare'] <= 8, 'Fare'] = 0\n",
    "    data_copied.loc[(data_copied['Fare'] > 8) & (data_copied['Fare'] <= 16), 'Fare'] = 1\n",
    "    data_copied.loc[(data_copied['Fare'] > 16) & (data_copied['Fare'] <= 32), 'Fare']   = 2\n",
    "    data_copied.loc[ data_copied['Fare'] > 32, 'Fare'] = 3\n",
    "    data_copied['Fare'] = data_copied['Fare'].astype(int)\n",
    "#     data_copied = data_copied.drop(['FareBand'], axis=1)\n",
    "    return data_copied\n",
    "\n",
    "def convert_age(data):\n",
    "    data_copied = pd.DataFrame.copy(data)\n",
    "#     data_copied['AgeBand'] = pd.cut(data_copied['Age'], 6)\n",
    "    data_copied.Age = data_copied.Age / data_copied.FamilySize\n",
    "    data_copied.loc[ data_copied['Age'] <= 14, 'Age'] = 0\n",
    "    data_copied.loc[(data_copied['Age'] > 14) & (data_copied['Age'] <= 28), 'Age'] = 1\n",
    "    data_copied.loc[(data_copied['Age'] > 28) & (data_copied['Age'] <= 42), 'Age'] = 2\n",
    "    data_copied.loc[(data_copied['Age'] > 42) & (data_copied['Age'] <= 56), 'Age'] = 3\n",
    "    data_copied.loc[(data_copied['Age'] > 56) & (data_copied['Age'] <= 70), 'Age'] = 4\n",
    "    data_copied.loc[(data_copied['Age'] > 70)] = 5\n",
    "    data_copied['Age'] = data_copied['Age'].astype(int)\n",
    "#     data_copied = data_copied.drop(['AgeBand'], axis=1)\n",
    "    return data_copied\n",
    "\n",
    "def drop_unnecessary(data):\n",
    "    return data.drop(['Ticket', 'Name', 'NameTitle', 'SibSp', 'Parch', 'Embarked'], axis=1)"
   ]
  },
  {
   "cell_type": "code",
   "execution_count": 5,
   "metadata": {},
   "outputs": [],
   "source": [
    "xgb_model = XGBClassifier(\n",
    "    learning_rate =0.05,\n",
    "     n_estimators=235,\n",
    "     max_depth=5,\n",
    "     min_child_weight=0.45,\n",
    "     gamma=1.7,\n",
    "     subsample=0.6,\n",
    "     colsample_bytree=0.825,\n",
    "     objective= 'binary:logistic',\n",
    "     nthread=8,\n",
    "     seed=27)"
   ]
  },
  {
   "cell_type": "code",
   "execution_count": 21,
   "metadata": {},
   "outputs": [
    {
     "name": "stdout",
     "output_type": "stream",
     "text": [
      "2.0\n"
     ]
    }
   ],
   "source": [
    "tmp = update_nan_cabin(data_train)"
   ]
  },
  {
   "cell_type": "code",
   "execution_count": null,
   "metadata": {},
   "outputs": [],
   "source": []
  }
 ],
 "metadata": {
  "kernelspec": {
   "display_name": "Python 3",
   "language": "python",
   "name": "python3"
  },
  "language_info": {
   "codemirror_mode": {
    "name": "ipython",
    "version": 3
   },
   "file_extension": ".py",
   "mimetype": "text/x-python",
   "name": "python",
   "nbconvert_exporter": "python",
   "pygments_lexer": "ipython3",
   "version": "3.6.5"
  }
 },
 "nbformat": 4,
 "nbformat_minor": 2
}
